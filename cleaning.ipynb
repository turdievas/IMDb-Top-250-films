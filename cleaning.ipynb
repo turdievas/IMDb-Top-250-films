{
 "cells": [
  {
   "cell_type": "code",
   "execution_count": 5,
   "id": "63b8b16e",
   "metadata": {},
   "outputs": [],
   "source": [
    "import pandas as pd\n",
    "import re\n",
    "movies = pd.read_excel(\"250 top movies from IMBb.xlsx\")\n",
    "\n",
    "\n",
    "def parse_human(v):\n",
    "    v = v.lower().strip()\n",
    "    if v.endswith(\"m\"):\n",
    "        return float(v[:-1]) * 1_000_000\n",
    "    elif v.endswith(\"k\"):\n",
    "        return float(v[:-1]) * 1_000\n",
    "    else:\n",
    "        return float(v)\n",
    "\n",
    "\n",
    "movies[\"Viewers_num\"] = movies[\"Viewers\"].apply(parse_human)\n",
    "\n",
    "def convert_to_minutes(duration_str):\n",
    "    hours = 0\n",
    "    minutes = 0\n",
    "\n",
    "    h_match = re.search(r\"(\\d+)\\s*h\", str(duration_str))\n",
    "    if h_match:\n",
    "        hours = int(h_match.group(1))\n",
    "\n",
    "    m_match = re.search(r\"(\\d+)\\s*min\", str(duration_str))\n",
    "    if m_match:\n",
    "        minutes = int(m_match.group(1))\n",
    "\n",
    "    return hours * 60 + minutes\n",
    "\n",
    "\n",
    "movies[\"DurationMinutes\"] = movies[\"Duration\"].apply(convert_to_minutes)\n",
    "\n",
    "\n",
    "movies[\"Rank\"] = pd.to_numeric(movies['Rank'], errors = 'coerce')\n",
    "\n",
    "movies[\"Rank\"] = range(1, len(movies)+1)\n",
    "movies[\"Rank\"] = movies['Rank'].astype(int)\n",
    "\n",
    "movies = movies.set_index(\"Rank\")\n",
    "\n",
    "\n",
    "movies[\"Year\"] = pd.to_numeric(movies['Year'], errors = 'coerce').astype('Int64')\n",
    "\n",
    "\n",
    "movies[\"Rating\"] = pd.to_numeric(movies['Rating'], errors = 'coerce')\n",
    "\n",
    "\n",
    "\n",
    "movies[\"Rating\"] = movies['Rating'].fillna(movies[\"Rating\"].mean())\n",
    "movies[\"Year\"] = movies['Year'].fillna(movies[\"Year\"].mean())\n",
    "\n",
    "movies.to_excel('movies.xlsx', index = False)"
   ]
  }
 ],
 "metadata": {
  "kernelspec": {
   "display_name": "Python 3",
   "language": "python",
   "name": "python3"
  },
  "language_info": {
   "codemirror_mode": {
    "name": "ipython",
    "version": 3
   },
   "file_extension": ".py",
   "mimetype": "text/x-python",
   "name": "python",
   "nbconvert_exporter": "python",
   "pygments_lexer": "ipython3",
   "version": "3.13.5"
  }
 },
 "nbformat": 4,
 "nbformat_minor": 5
}
